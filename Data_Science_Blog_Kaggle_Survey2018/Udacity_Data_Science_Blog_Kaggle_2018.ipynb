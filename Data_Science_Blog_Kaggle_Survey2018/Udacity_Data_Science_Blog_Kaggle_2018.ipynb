{
 "cells": [
  {
   "cell_type": "markdown",
   "metadata": {},
   "source": [
    " <H2> This Will Make You Start Into The Field of Data Science -  Kaggle Survey 2018"
   ]
  },
  {
   "cell_type": "code",
   "execution_count": 171,
   "metadata": {},
   "outputs": [
    {
     "data": {
      "text/html": [
       "<script type=\"text/javascript\">window.PlotlyConfig = {MathJaxConfig: 'local'};</script><script type=\"text/javascript\">if (window.MathJax) {MathJax.Hub.Config({SVG: {font: \"STIX-Web\"}});}</script><script>requirejs.config({paths: { 'plotly': ['https://cdn.plot.ly/plotly-latest.min']},});if(!window._Plotly) {require(['plotly'],function(plotly) {window._Plotly=plotly;});}</script>"
      ],
      "text/vnd.plotly.v1+html": [
       "<script type=\"text/javascript\">window.PlotlyConfig = {MathJaxConfig: 'local'};</script><script type=\"text/javascript\">if (window.MathJax) {MathJax.Hub.Config({SVG: {font: \"STIX-Web\"}});}</script><script>requirejs.config({paths: { 'plotly': ['https://cdn.plot.ly/plotly-latest.min']},});if(!window._Plotly) {require(['plotly'],function(plotly) {window._Plotly=plotly;});}</script>"
      ]
     },
     "metadata": {},
     "output_type": "display_data"
    }
   ],
   "source": [
    "#import the libraries\n",
    "import numpy as np\n",
    "import pandas as pd\n",
    "import matplotlib.pyplot as plt\n",
    "%matplotlib inline\n",
    "import seaborn as sns\n",
    "#import plotly.plotly as py\n",
    "from plotly.offline import init_notebook_mode, iplot\n",
    "init_notebook_mode(connected=True)\n",
    "import plotly.graph_objs as go\n",
    "\n",
    "import warnings\n",
    "warnings.filterwarnings('ignore')"
   ]
  },
  {
   "cell_type": "markdown",
   "metadata": {},
   "source": [
    "<H3> This Notebook is divided into following processes:</H3>\n",
    "\n",
    "1. Business/Project Understanding \n",
    "2. Data Understanding\n",
    "3. Data Preparation\n",
    "4. Data Analysis and Visualization\n",
    "5. Conclusion"
   ]
  },
  {
   "cell_type": "markdown",
   "metadata": {},
   "source": [
    "<H3>1. Business/Project Understanding </H3>\n",
    "\n",
    "The objective of this project is help people who want to break into field of Data Science by answering following questions:\n",
    "\n",
    "1. How people are learning? — Self study, Online courses etc\n",
    "2. How is the quality of Online Courses or In-Person Bootcamps as compared to traditional brick and mortar institutions?\n",
    "3. Which programming language is recommended to learn first?\n",
    "4. Which Online platform is most popular to learn Data Science or Machine Learning?\n",
    "5. Which media sources should be followed that report on Data Science?"
   ]
  },
  {
   "cell_type": "markdown",
   "metadata": {},
   "source": [
    "<H3>2.  Data Understanding </H3>\n",
    "\n",
    "This is divided into following steps:\n",
    "\n",
    "Step 1: Data Gathering\n",
    "\n",
    "Step 2: Data Assessing"
   ]
  },
  {
   "cell_type": "markdown",
   "metadata": {},
   "source": [
    "<H4>Step 1: Data Gathering </H4>\n",
    "\n",
    "The data has been gathered from a CSV file `multipleChoiceResponses.csv`"
   ]
  },
  {
   "cell_type": "code",
   "execution_count": 172,
   "metadata": {},
   "outputs": [
    {
     "data": {
      "text/html": [
       "<div>\n",
       "<style scoped>\n",
       "    .dataframe tbody tr th:only-of-type {\n",
       "        vertical-align: middle;\n",
       "    }\n",
       "\n",
       "    .dataframe tbody tr th {\n",
       "        vertical-align: top;\n",
       "    }\n",
       "\n",
       "    .dataframe thead th {\n",
       "        text-align: right;\n",
       "    }\n",
       "</style>\n",
       "<table border=\"1\" class=\"dataframe\">\n",
       "  <thead>\n",
       "    <tr style=\"text-align: right;\">\n",
       "      <th></th>\n",
       "      <th>Time from Start to Finish (seconds)</th>\n",
       "      <th>Q1</th>\n",
       "      <th>Q1_OTHER_TEXT</th>\n",
       "      <th>Q2</th>\n",
       "      <th>Q3</th>\n",
       "      <th>Q4</th>\n",
       "      <th>Q5</th>\n",
       "      <th>Q6</th>\n",
       "      <th>Q6_OTHER_TEXT</th>\n",
       "      <th>Q7</th>\n",
       "      <th>...</th>\n",
       "      <th>Q49_OTHER_TEXT</th>\n",
       "      <th>Q50_Part_1</th>\n",
       "      <th>Q50_Part_2</th>\n",
       "      <th>Q50_Part_3</th>\n",
       "      <th>Q50_Part_4</th>\n",
       "      <th>Q50_Part_5</th>\n",
       "      <th>Q50_Part_6</th>\n",
       "      <th>Q50_Part_7</th>\n",
       "      <th>Q50_Part_8</th>\n",
       "      <th>Q50_OTHER_TEXT</th>\n",
       "    </tr>\n",
       "  </thead>\n",
       "  <tbody>\n",
       "    <tr>\n",
       "      <th>0</th>\n",
       "      <td>Duration (in seconds)</td>\n",
       "      <td>What is your gender? - Selected Choice</td>\n",
       "      <td>What is your gender? - Prefer to self-describe...</td>\n",
       "      <td>What is your age (# years)?</td>\n",
       "      <td>In which country do you currently reside?</td>\n",
       "      <td>What is the highest level of formal education ...</td>\n",
       "      <td>Which best describes your undergraduate major?...</td>\n",
       "      <td>Select the title most similar to your current ...</td>\n",
       "      <td>Select the title most similar to your current ...</td>\n",
       "      <td>In what industry is your current employer/cont...</td>\n",
       "      <td>...</td>\n",
       "      <td>What tools and methods do you use to make your...</td>\n",
       "      <td>What barriers prevent you from making your wor...</td>\n",
       "      <td>What barriers prevent you from making your wor...</td>\n",
       "      <td>What barriers prevent you from making your wor...</td>\n",
       "      <td>What barriers prevent you from making your wor...</td>\n",
       "      <td>What barriers prevent you from making your wor...</td>\n",
       "      <td>What barriers prevent you from making your wor...</td>\n",
       "      <td>What barriers prevent you from making your wor...</td>\n",
       "      <td>What barriers prevent you from making your wor...</td>\n",
       "      <td>What barriers prevent you from making your wor...</td>\n",
       "    </tr>\n",
       "    <tr>\n",
       "      <th>1</th>\n",
       "      <td>710</td>\n",
       "      <td>Female</td>\n",
       "      <td>-1</td>\n",
       "      <td>45-49</td>\n",
       "      <td>United States of America</td>\n",
       "      <td>Doctoral degree</td>\n",
       "      <td>Other</td>\n",
       "      <td>Consultant</td>\n",
       "      <td>-1</td>\n",
       "      <td>Other</td>\n",
       "      <td>...</td>\n",
       "      <td>-1</td>\n",
       "      <td>NaN</td>\n",
       "      <td>NaN</td>\n",
       "      <td>NaN</td>\n",
       "      <td>NaN</td>\n",
       "      <td>NaN</td>\n",
       "      <td>NaN</td>\n",
       "      <td>NaN</td>\n",
       "      <td>NaN</td>\n",
       "      <td>-1</td>\n",
       "    </tr>\n",
       "    <tr>\n",
       "      <th>2</th>\n",
       "      <td>434</td>\n",
       "      <td>Male</td>\n",
       "      <td>-1</td>\n",
       "      <td>30-34</td>\n",
       "      <td>Indonesia</td>\n",
       "      <td>Bachelor’s degree</td>\n",
       "      <td>Engineering (non-computer focused)</td>\n",
       "      <td>Other</td>\n",
       "      <td>0</td>\n",
       "      <td>Manufacturing/Fabrication</td>\n",
       "      <td>...</td>\n",
       "      <td>-1</td>\n",
       "      <td>NaN</td>\n",
       "      <td>NaN</td>\n",
       "      <td>NaN</td>\n",
       "      <td>NaN</td>\n",
       "      <td>NaN</td>\n",
       "      <td>NaN</td>\n",
       "      <td>NaN</td>\n",
       "      <td>NaN</td>\n",
       "      <td>-1</td>\n",
       "    </tr>\n",
       "    <tr>\n",
       "      <th>3</th>\n",
       "      <td>718</td>\n",
       "      <td>Female</td>\n",
       "      <td>-1</td>\n",
       "      <td>30-34</td>\n",
       "      <td>United States of America</td>\n",
       "      <td>Master’s degree</td>\n",
       "      <td>Computer science (software engineering, etc.)</td>\n",
       "      <td>Data Scientist</td>\n",
       "      <td>-1</td>\n",
       "      <td>I am a student</td>\n",
       "      <td>...</td>\n",
       "      <td>-1</td>\n",
       "      <td>NaN</td>\n",
       "      <td>Too time-consuming</td>\n",
       "      <td>NaN</td>\n",
       "      <td>NaN</td>\n",
       "      <td>NaN</td>\n",
       "      <td>NaN</td>\n",
       "      <td>NaN</td>\n",
       "      <td>NaN</td>\n",
       "      <td>-1</td>\n",
       "    </tr>\n",
       "    <tr>\n",
       "      <th>4</th>\n",
       "      <td>621</td>\n",
       "      <td>Male</td>\n",
       "      <td>-1</td>\n",
       "      <td>35-39</td>\n",
       "      <td>United States of America</td>\n",
       "      <td>Master’s degree</td>\n",
       "      <td>Social sciences (anthropology, psychology, soc...</td>\n",
       "      <td>Not employed</td>\n",
       "      <td>-1</td>\n",
       "      <td>NaN</td>\n",
       "      <td>...</td>\n",
       "      <td>-1</td>\n",
       "      <td>NaN</td>\n",
       "      <td>NaN</td>\n",
       "      <td>Requires too much technical knowledge</td>\n",
       "      <td>NaN</td>\n",
       "      <td>Not enough incentives to share my work</td>\n",
       "      <td>NaN</td>\n",
       "      <td>NaN</td>\n",
       "      <td>NaN</td>\n",
       "      <td>-1</td>\n",
       "    </tr>\n",
       "  </tbody>\n",
       "</table>\n",
       "<p>5 rows × 395 columns</p>\n",
       "</div>"
      ],
      "text/plain": [
       "  Time from Start to Finish (seconds)                                      Q1  \\\n",
       "0               Duration (in seconds)  What is your gender? - Selected Choice   \n",
       "1                                 710                                  Female   \n",
       "2                                 434                                    Male   \n",
       "3                                 718                                  Female   \n",
       "4                                 621                                    Male   \n",
       "\n",
       "                                       Q1_OTHER_TEXT  \\\n",
       "0  What is your gender? - Prefer to self-describe...   \n",
       "1                                                 -1   \n",
       "2                                                 -1   \n",
       "3                                                 -1   \n",
       "4                                                 -1   \n",
       "\n",
       "                            Q2                                         Q3  \\\n",
       "0  What is your age (# years)?  In which country do you currently reside?   \n",
       "1                        45-49                   United States of America   \n",
       "2                        30-34                                  Indonesia   \n",
       "3                        30-34                   United States of America   \n",
       "4                        35-39                   United States of America   \n",
       "\n",
       "                                                  Q4  \\\n",
       "0  What is the highest level of formal education ...   \n",
       "1                                    Doctoral degree   \n",
       "2                                  Bachelor’s degree   \n",
       "3                                    Master’s degree   \n",
       "4                                    Master’s degree   \n",
       "\n",
       "                                                  Q5  \\\n",
       "0  Which best describes your undergraduate major?...   \n",
       "1                                              Other   \n",
       "2                 Engineering (non-computer focused)   \n",
       "3      Computer science (software engineering, etc.)   \n",
       "4  Social sciences (anthropology, psychology, soc...   \n",
       "\n",
       "                                                  Q6  \\\n",
       "0  Select the title most similar to your current ...   \n",
       "1                                         Consultant   \n",
       "2                                              Other   \n",
       "3                                     Data Scientist   \n",
       "4                                       Not employed   \n",
       "\n",
       "                                       Q6_OTHER_TEXT  \\\n",
       "0  Select the title most similar to your current ...   \n",
       "1                                                 -1   \n",
       "2                                                  0   \n",
       "3                                                 -1   \n",
       "4                                                 -1   \n",
       "\n",
       "                                                  Q7  \\\n",
       "0  In what industry is your current employer/cont...   \n",
       "1                                              Other   \n",
       "2                          Manufacturing/Fabrication   \n",
       "3                                     I am a student   \n",
       "4                                                NaN   \n",
       "\n",
       "                         ...                          \\\n",
       "0                        ...                           \n",
       "1                        ...                           \n",
       "2                        ...                           \n",
       "3                        ...                           \n",
       "4                        ...                           \n",
       "\n",
       "                                      Q49_OTHER_TEXT  \\\n",
       "0  What tools and methods do you use to make your...   \n",
       "1                                                 -1   \n",
       "2                                                 -1   \n",
       "3                                                 -1   \n",
       "4                                                 -1   \n",
       "\n",
       "                                          Q50_Part_1  \\\n",
       "0  What barriers prevent you from making your wor...   \n",
       "1                                                NaN   \n",
       "2                                                NaN   \n",
       "3                                                NaN   \n",
       "4                                                NaN   \n",
       "\n",
       "                                          Q50_Part_2  \\\n",
       "0  What barriers prevent you from making your wor...   \n",
       "1                                                NaN   \n",
       "2                                                NaN   \n",
       "3                                 Too time-consuming   \n",
       "4                                                NaN   \n",
       "\n",
       "                                          Q50_Part_3  \\\n",
       "0  What barriers prevent you from making your wor...   \n",
       "1                                                NaN   \n",
       "2                                                NaN   \n",
       "3                                                NaN   \n",
       "4              Requires too much technical knowledge   \n",
       "\n",
       "                                          Q50_Part_4  \\\n",
       "0  What barriers prevent you from making your wor...   \n",
       "1                                                NaN   \n",
       "2                                                NaN   \n",
       "3                                                NaN   \n",
       "4                                                NaN   \n",
       "\n",
       "                                          Q50_Part_5  \\\n",
       "0  What barriers prevent you from making your wor...   \n",
       "1                                                NaN   \n",
       "2                                                NaN   \n",
       "3                                                NaN   \n",
       "4             Not enough incentives to share my work   \n",
       "\n",
       "                                          Q50_Part_6  \\\n",
       "0  What barriers prevent you from making your wor...   \n",
       "1                                                NaN   \n",
       "2                                                NaN   \n",
       "3                                                NaN   \n",
       "4                                                NaN   \n",
       "\n",
       "                                          Q50_Part_7  \\\n",
       "0  What barriers prevent you from making your wor...   \n",
       "1                                                NaN   \n",
       "2                                                NaN   \n",
       "3                                                NaN   \n",
       "4                                                NaN   \n",
       "\n",
       "                                          Q50_Part_8  \\\n",
       "0  What barriers prevent you from making your wor...   \n",
       "1                                                NaN   \n",
       "2                                                NaN   \n",
       "3                                                NaN   \n",
       "4                                                NaN   \n",
       "\n",
       "                                      Q50_OTHER_TEXT  \n",
       "0  What barriers prevent you from making your wor...  \n",
       "1                                                 -1  \n",
       "2                                                 -1  \n",
       "3                                                 -1  \n",
       "4                                                 -1  \n",
       "\n",
       "[5 rows x 395 columns]"
      ]
     },
     "execution_count": 172,
     "metadata": {},
     "output_type": "execute_result"
    }
   ],
   "source": [
    "#import the data\n",
    "multichoice_data = pd.read_csv('multipleChoiceResponses.csv')\n",
    "multichoice_data.head()"
   ]
  },
  {
   "cell_type": "markdown",
   "metadata": {},
   "source": [
    "<H4>Step 2: Data Assessment</H4>\n",
    "\n",
    "As we can see that the first row is basically the questions text which can be removed and data will be in good shape to analyse."
   ]
  },
  {
   "cell_type": "code",
   "execution_count": 173,
   "metadata": {},
   "outputs": [
    {
     "data": {
      "text/html": [
       "<div>\n",
       "<style scoped>\n",
       "    .dataframe tbody tr th:only-of-type {\n",
       "        vertical-align: middle;\n",
       "    }\n",
       "\n",
       "    .dataframe tbody tr th {\n",
       "        vertical-align: top;\n",
       "    }\n",
       "\n",
       "    .dataframe thead th {\n",
       "        text-align: right;\n",
       "    }\n",
       "</style>\n",
       "<table border=\"1\" class=\"dataframe\">\n",
       "  <thead>\n",
       "    <tr style=\"text-align: right;\">\n",
       "      <th></th>\n",
       "      <th>Time from Start to Finish (seconds)</th>\n",
       "      <th>Q1</th>\n",
       "      <th>Q1_OTHER_TEXT</th>\n",
       "      <th>Q2</th>\n",
       "      <th>Q3</th>\n",
       "      <th>Q4</th>\n",
       "      <th>Q5</th>\n",
       "      <th>Q6</th>\n",
       "      <th>Q6_OTHER_TEXT</th>\n",
       "      <th>Q7</th>\n",
       "      <th>...</th>\n",
       "      <th>Q49_OTHER_TEXT</th>\n",
       "      <th>Q50_Part_1</th>\n",
       "      <th>Q50_Part_2</th>\n",
       "      <th>Q50_Part_3</th>\n",
       "      <th>Q50_Part_4</th>\n",
       "      <th>Q50_Part_5</th>\n",
       "      <th>Q50_Part_6</th>\n",
       "      <th>Q50_Part_7</th>\n",
       "      <th>Q50_Part_8</th>\n",
       "      <th>Q50_OTHER_TEXT</th>\n",
       "    </tr>\n",
       "  </thead>\n",
       "  <tbody>\n",
       "    <tr>\n",
       "      <th>1</th>\n",
       "      <td>710</td>\n",
       "      <td>Female</td>\n",
       "      <td>-1</td>\n",
       "      <td>45-49</td>\n",
       "      <td>United States of America</td>\n",
       "      <td>Doctoral degree</td>\n",
       "      <td>Other</td>\n",
       "      <td>Consultant</td>\n",
       "      <td>-1</td>\n",
       "      <td>Other</td>\n",
       "      <td>...</td>\n",
       "      <td>-1</td>\n",
       "      <td>NaN</td>\n",
       "      <td>NaN</td>\n",
       "      <td>NaN</td>\n",
       "      <td>NaN</td>\n",
       "      <td>NaN</td>\n",
       "      <td>NaN</td>\n",
       "      <td>NaN</td>\n",
       "      <td>NaN</td>\n",
       "      <td>-1</td>\n",
       "    </tr>\n",
       "    <tr>\n",
       "      <th>2</th>\n",
       "      <td>434</td>\n",
       "      <td>Male</td>\n",
       "      <td>-1</td>\n",
       "      <td>30-34</td>\n",
       "      <td>Indonesia</td>\n",
       "      <td>Bachelor’s degree</td>\n",
       "      <td>Engineering (non-computer focused)</td>\n",
       "      <td>Other</td>\n",
       "      <td>0</td>\n",
       "      <td>Manufacturing/Fabrication</td>\n",
       "      <td>...</td>\n",
       "      <td>-1</td>\n",
       "      <td>NaN</td>\n",
       "      <td>NaN</td>\n",
       "      <td>NaN</td>\n",
       "      <td>NaN</td>\n",
       "      <td>NaN</td>\n",
       "      <td>NaN</td>\n",
       "      <td>NaN</td>\n",
       "      <td>NaN</td>\n",
       "      <td>-1</td>\n",
       "    </tr>\n",
       "    <tr>\n",
       "      <th>3</th>\n",
       "      <td>718</td>\n",
       "      <td>Female</td>\n",
       "      <td>-1</td>\n",
       "      <td>30-34</td>\n",
       "      <td>United States of America</td>\n",
       "      <td>Master’s degree</td>\n",
       "      <td>Computer science (software engineering, etc.)</td>\n",
       "      <td>Data Scientist</td>\n",
       "      <td>-1</td>\n",
       "      <td>I am a student</td>\n",
       "      <td>...</td>\n",
       "      <td>-1</td>\n",
       "      <td>NaN</td>\n",
       "      <td>Too time-consuming</td>\n",
       "      <td>NaN</td>\n",
       "      <td>NaN</td>\n",
       "      <td>NaN</td>\n",
       "      <td>NaN</td>\n",
       "      <td>NaN</td>\n",
       "      <td>NaN</td>\n",
       "      <td>-1</td>\n",
       "    </tr>\n",
       "    <tr>\n",
       "      <th>4</th>\n",
       "      <td>621</td>\n",
       "      <td>Male</td>\n",
       "      <td>-1</td>\n",
       "      <td>35-39</td>\n",
       "      <td>United States of America</td>\n",
       "      <td>Master’s degree</td>\n",
       "      <td>Social sciences (anthropology, psychology, soc...</td>\n",
       "      <td>Not employed</td>\n",
       "      <td>-1</td>\n",
       "      <td>NaN</td>\n",
       "      <td>...</td>\n",
       "      <td>-1</td>\n",
       "      <td>NaN</td>\n",
       "      <td>NaN</td>\n",
       "      <td>Requires too much technical knowledge</td>\n",
       "      <td>NaN</td>\n",
       "      <td>Not enough incentives to share my work</td>\n",
       "      <td>NaN</td>\n",
       "      <td>NaN</td>\n",
       "      <td>NaN</td>\n",
       "      <td>-1</td>\n",
       "    </tr>\n",
       "    <tr>\n",
       "      <th>5</th>\n",
       "      <td>731</td>\n",
       "      <td>Male</td>\n",
       "      <td>-1</td>\n",
       "      <td>22-24</td>\n",
       "      <td>India</td>\n",
       "      <td>Master’s degree</td>\n",
       "      <td>Mathematics or statistics</td>\n",
       "      <td>Data Analyst</td>\n",
       "      <td>-1</td>\n",
       "      <td>I am a student</td>\n",
       "      <td>...</td>\n",
       "      <td>-1</td>\n",
       "      <td>NaN</td>\n",
       "      <td>Too time-consuming</td>\n",
       "      <td>NaN</td>\n",
       "      <td>NaN</td>\n",
       "      <td>Not enough incentives to share my work</td>\n",
       "      <td>NaN</td>\n",
       "      <td>NaN</td>\n",
       "      <td>NaN</td>\n",
       "      <td>-1</td>\n",
       "    </tr>\n",
       "  </tbody>\n",
       "</table>\n",
       "<p>5 rows × 395 columns</p>\n",
       "</div>"
      ],
      "text/plain": [
       "  Time from Start to Finish (seconds)      Q1 Q1_OTHER_TEXT     Q2  \\\n",
       "1                                 710  Female            -1  45-49   \n",
       "2                                 434    Male            -1  30-34   \n",
       "3                                 718  Female            -1  30-34   \n",
       "4                                 621    Male            -1  35-39   \n",
       "5                                 731    Male            -1  22-24   \n",
       "\n",
       "                         Q3                 Q4  \\\n",
       "1  United States of America    Doctoral degree   \n",
       "2                 Indonesia  Bachelor’s degree   \n",
       "3  United States of America    Master’s degree   \n",
       "4  United States of America    Master’s degree   \n",
       "5                     India    Master’s degree   \n",
       "\n",
       "                                                  Q5              Q6  \\\n",
       "1                                              Other      Consultant   \n",
       "2                 Engineering (non-computer focused)           Other   \n",
       "3      Computer science (software engineering, etc.)  Data Scientist   \n",
       "4  Social sciences (anthropology, psychology, soc...    Not employed   \n",
       "5                          Mathematics or statistics    Data Analyst   \n",
       "\n",
       "  Q6_OTHER_TEXT                         Q7      ...       Q49_OTHER_TEXT  \\\n",
       "1            -1                      Other      ...                   -1   \n",
       "2             0  Manufacturing/Fabrication      ...                   -1   \n",
       "3            -1             I am a student      ...                   -1   \n",
       "4            -1                        NaN      ...                   -1   \n",
       "5            -1             I am a student      ...                   -1   \n",
       "\n",
       "  Q50_Part_1          Q50_Part_2                             Q50_Part_3  \\\n",
       "1        NaN                 NaN                                    NaN   \n",
       "2        NaN                 NaN                                    NaN   \n",
       "3        NaN  Too time-consuming                                    NaN   \n",
       "4        NaN                 NaN  Requires too much technical knowledge   \n",
       "5        NaN  Too time-consuming                                    NaN   \n",
       "\n",
       "  Q50_Part_4                              Q50_Part_5 Q50_Part_6 Q50_Part_7  \\\n",
       "1        NaN                                     NaN        NaN        NaN   \n",
       "2        NaN                                     NaN        NaN        NaN   \n",
       "3        NaN                                     NaN        NaN        NaN   \n",
       "4        NaN  Not enough incentives to share my work        NaN        NaN   \n",
       "5        NaN  Not enough incentives to share my work        NaN        NaN   \n",
       "\n",
       "  Q50_Part_8 Q50_OTHER_TEXT  \n",
       "1        NaN             -1  \n",
       "2        NaN             -1  \n",
       "3        NaN             -1  \n",
       "4        NaN             -1  \n",
       "5        NaN             -1  \n",
       "\n",
       "[5 rows x 395 columns]"
      ]
     },
     "execution_count": 173,
     "metadata": {},
     "output_type": "execute_result"
    }
   ],
   "source": [
    "# Make a copy of the data and exclude the 2nd row which is basically questions text\n",
    "responses_df = multichoice_data[1:].copy()\n",
    "responses_df.head()"
   ]
  },
  {
   "cell_type": "markdown",
   "metadata": {},
   "source": [
    "**** Let's Get some statistics about the data ****\n",
    "\n",
    "`Count:`  Describes the number of responses received for that particular question. There are some `null` values also in the data\n",
    "\n",
    "`unique:` How many unique values are there in each column\n",
    "\n",
    "`top`:    which categiry received the most of the responses\n",
    "\n",
    "`freq:`   What is the frequecny of top most value in any particular column"
   ]
  },
  {
   "cell_type": "markdown",
   "metadata": {},
   "source": [
    "**** As we can see there are multiple choice questions so to get a particular answer, we might have to get the data from multiple columns. ****"
   ]
  },
  {
   "cell_type": "code",
   "execution_count": 174,
   "metadata": {},
   "outputs": [
    {
     "data": {
      "text/html": [
       "<div>\n",
       "<style scoped>\n",
       "    .dataframe tbody tr th:only-of-type {\n",
       "        vertical-align: middle;\n",
       "    }\n",
       "\n",
       "    .dataframe tbody tr th {\n",
       "        vertical-align: top;\n",
       "    }\n",
       "\n",
       "    .dataframe thead th {\n",
       "        text-align: right;\n",
       "    }\n",
       "</style>\n",
       "<table border=\"1\" class=\"dataframe\">\n",
       "  <thead>\n",
       "    <tr style=\"text-align: right;\">\n",
       "      <th></th>\n",
       "      <th>Time from Start to Finish (seconds)</th>\n",
       "      <th>Q1</th>\n",
       "      <th>Q1_OTHER_TEXT</th>\n",
       "      <th>Q2</th>\n",
       "      <th>Q3</th>\n",
       "      <th>Q4</th>\n",
       "      <th>Q5</th>\n",
       "      <th>Q6</th>\n",
       "      <th>Q6_OTHER_TEXT</th>\n",
       "      <th>Q7</th>\n",
       "      <th>...</th>\n",
       "      <th>Q49_OTHER_TEXT</th>\n",
       "      <th>Q50_Part_1</th>\n",
       "      <th>Q50_Part_2</th>\n",
       "      <th>Q50_Part_3</th>\n",
       "      <th>Q50_Part_4</th>\n",
       "      <th>Q50_Part_5</th>\n",
       "      <th>Q50_Part_6</th>\n",
       "      <th>Q50_Part_7</th>\n",
       "      <th>Q50_Part_8</th>\n",
       "      <th>Q50_OTHER_TEXT</th>\n",
       "    </tr>\n",
       "  </thead>\n",
       "  <tbody>\n",
       "    <tr>\n",
       "      <th>count</th>\n",
       "      <td>23859</td>\n",
       "      <td>23859</td>\n",
       "      <td>23859</td>\n",
       "      <td>23859</td>\n",
       "      <td>23859</td>\n",
       "      <td>23438</td>\n",
       "      <td>22947</td>\n",
       "      <td>22900</td>\n",
       "      <td>23859</td>\n",
       "      <td>21685</td>\n",
       "      <td>...</td>\n",
       "      <td>23859</td>\n",
       "      <td>1371</td>\n",
       "      <td>6478</td>\n",
       "      <td>2674</td>\n",
       "      <td>2104</td>\n",
       "      <td>3569</td>\n",
       "      <td>1059</td>\n",
       "      <td>2500</td>\n",
       "      <td>520</td>\n",
       "      <td>23859</td>\n",
       "    </tr>\n",
       "    <tr>\n",
       "      <th>unique</th>\n",
       "      <td>7641</td>\n",
       "      <td>4</td>\n",
       "      <td>69</td>\n",
       "      <td>12</td>\n",
       "      <td>58</td>\n",
       "      <td>7</td>\n",
       "      <td>13</td>\n",
       "      <td>21</td>\n",
       "      <td>900</td>\n",
       "      <td>19</td>\n",
       "      <td>...</td>\n",
       "      <td>171</td>\n",
       "      <td>1</td>\n",
       "      <td>1</td>\n",
       "      <td>1</td>\n",
       "      <td>1</td>\n",
       "      <td>1</td>\n",
       "      <td>1</td>\n",
       "      <td>1</td>\n",
       "      <td>1</td>\n",
       "      <td>414</td>\n",
       "    </tr>\n",
       "    <tr>\n",
       "      <th>top</th>\n",
       "      <td>142</td>\n",
       "      <td>Male</td>\n",
       "      <td>-1</td>\n",
       "      <td>25-29</td>\n",
       "      <td>United States of America</td>\n",
       "      <td>Master’s degree</td>\n",
       "      <td>Computer science (software engineering, etc.)</td>\n",
       "      <td>Student</td>\n",
       "      <td>-1</td>\n",
       "      <td>Computers/Technology</td>\n",
       "      <td>...</td>\n",
       "      <td>-1</td>\n",
       "      <td>Too expensive</td>\n",
       "      <td>Too time-consuming</td>\n",
       "      <td>Requires too much technical knowledge</td>\n",
       "      <td>Afraid that others will use my work without gi...</td>\n",
       "      <td>Not enough incentives to share my work</td>\n",
       "      <td>I had never considered making my work easier f...</td>\n",
       "      <td>None of these reasons apply to me</td>\n",
       "      <td>Other</td>\n",
       "      <td>-1</td>\n",
       "    </tr>\n",
       "    <tr>\n",
       "      <th>freq</th>\n",
       "      <td>31</td>\n",
       "      <td>19430</td>\n",
       "      <td>21738</td>\n",
       "      <td>6159</td>\n",
       "      <td>4716</td>\n",
       "      <td>10855</td>\n",
       "      <td>9430</td>\n",
       "      <td>5253</td>\n",
       "      <td>20603</td>\n",
       "      <td>5584</td>\n",
       "      <td>...</td>\n",
       "      <td>21658</td>\n",
       "      <td>1371</td>\n",
       "      <td>6478</td>\n",
       "      <td>2674</td>\n",
       "      <td>2104</td>\n",
       "      <td>3569</td>\n",
       "      <td>1059</td>\n",
       "      <td>2500</td>\n",
       "      <td>520</td>\n",
       "      <td>21421</td>\n",
       "    </tr>\n",
       "  </tbody>\n",
       "</table>\n",
       "<p>4 rows × 395 columns</p>\n",
       "</div>"
      ],
      "text/plain": [
       "        Time from Start to Finish (seconds)     Q1  Q1_OTHER_TEXT     Q2  \\\n",
       "count                                 23859  23859          23859  23859   \n",
       "unique                                 7641      4             69     12   \n",
       "top                                     142   Male             -1  25-29   \n",
       "freq                                     31  19430          21738   6159   \n",
       "\n",
       "                              Q3               Q4  \\\n",
       "count                      23859            23438   \n",
       "unique                        58                7   \n",
       "top     United States of America  Master’s degree   \n",
       "freq                        4716            10855   \n",
       "\n",
       "                                                   Q5       Q6  Q6_OTHER_TEXT  \\\n",
       "count                                           22947    22900          23859   \n",
       "unique                                             13       21            900   \n",
       "top     Computer science (software engineering, etc.)  Student             -1   \n",
       "freq                                             9430     5253          20603   \n",
       "\n",
       "                          Q7      ...        Q49_OTHER_TEXT     Q50_Part_1  \\\n",
       "count                  21685      ...                 23859           1371   \n",
       "unique                    19      ...                   171              1   \n",
       "top     Computers/Technology      ...                    -1  Too expensive   \n",
       "freq                    5584      ...                 21658           1371   \n",
       "\n",
       "                Q50_Part_2                             Q50_Part_3  \\\n",
       "count                 6478                                   2674   \n",
       "unique                   1                                      1   \n",
       "top     Too time-consuming  Requires too much technical knowledge   \n",
       "freq                  6478                                   2674   \n",
       "\n",
       "                                               Q50_Part_4  \\\n",
       "count                                                2104   \n",
       "unique                                                  1   \n",
       "top     Afraid that others will use my work without gi...   \n",
       "freq                                                 2104   \n",
       "\n",
       "                                    Q50_Part_5  \\\n",
       "count                                     3569   \n",
       "unique                                       1   \n",
       "top     Not enough incentives to share my work   \n",
       "freq                                      3569   \n",
       "\n",
       "                                               Q50_Part_6  \\\n",
       "count                                                1059   \n",
       "unique                                                  1   \n",
       "top     I had never considered making my work easier f...   \n",
       "freq                                                 1059   \n",
       "\n",
       "                               Q50_Part_7 Q50_Part_8 Q50_OTHER_TEXT  \n",
       "count                                2500        520          23859  \n",
       "unique                                  1          1            414  \n",
       "top     None of these reasons apply to me      Other             -1  \n",
       "freq                                 2500        520          21421  \n",
       "\n",
       "[4 rows x 395 columns]"
      ]
     },
     "execution_count": 174,
     "metadata": {},
     "output_type": "execute_result"
    }
   ],
   "source": [
    "responses_df.describe()"
   ]
  },
  {
   "cell_type": "code",
   "execution_count": 175,
   "metadata": {},
   "outputs": [
    {
     "name": "stdout",
     "output_type": "stream",
     "text": [
      "<class 'pandas.core.frame.DataFrame'>\n",
      "RangeIndex: 23859 entries, 1 to 23859\n",
      "Columns: 395 entries, Time from Start to Finish (seconds) to Q50_OTHER_TEXT\n",
      "dtypes: object(395)\n",
      "memory usage: 71.9+ MB\n"
     ]
    }
   ],
   "source": [
    "responses_df.info()"
   ]
  },
  {
   "cell_type": "markdown",
   "metadata": {},
   "source": [
    "**** There are two categorical variables which are being referred in the Question 2. ****"
   ]
  },
  {
   "cell_type": "code",
   "execution_count": 176,
   "metadata": {},
   "outputs": [
    {
     "data": {
      "text/plain": [
       "Series([], dtype: object)"
      ]
     },
     "execution_count": 176,
     "metadata": {},
     "output_type": "execute_result"
    }
   ],
   "source": [
    "responses_df.select_dtypes(include=[\"category\"]).dtypes"
   ]
  },
  {
   "cell_type": "markdown",
   "metadata": {},
   "source": [
    "**** The first column is the time taken by respondents so there are total of `395 - 1 = 394` questions ****"
   ]
  },
  {
   "cell_type": "code",
   "execution_count": 177,
   "metadata": {},
   "outputs": [
    {
     "name": "stdout",
     "output_type": "stream",
     "text": [
      "There are total of 23859 responses\n",
      "There are total of 394 questions\n"
     ]
    }
   ],
   "source": [
    "# Get the rows and columns in the data\n",
    "print(\"There are total of {} responses\".format(responses_df.shape[0]))\n",
    "print(\"There are total of {} questions\".format(responses_df.shape[1] - 1))"
   ]
  },
  {
   "cell_type": "markdown",
   "metadata": {},
   "source": [
    "This survey received `23,859` usable respondents from `147 countries and territories`. If a country or territory received less than 50 respondents, Kaggle grouped them into a group named `Other` for anonymity."
   ]
  },
  {
   "cell_type": "code",
   "execution_count": 178,
   "metadata": {},
   "outputs": [
    {
     "name": "stdout",
     "output_type": "stream",
     "text": [
      "total distinct countries 58\n",
      "People who do not want to reveal their location 394\n"
     ]
    }
   ],
   "source": [
    "print(\"total distinct countries\",responses_df['Q3'].nunique())\n",
    "print(\"People who do not want to reveal their location\",(responses_df['Q3'] == 'I do not wish to disclose my location').sum())"
   ]
  },
  {
   "cell_type": "markdown",
   "metadata": {},
   "source": [
    "So there are `56 countries` from where `more than 50 responses` received and 1 entry is for `others` and 1 is for `People who do not want to reveal their location`"
   ]
  },
  {
   "cell_type": "markdown",
   "metadata": {},
   "source": [
    "**** Let's see the responses by Gender ****"
   ]
  },
  {
   "cell_type": "code",
   "execution_count": 179,
   "metadata": {},
   "outputs": [
    {
     "data": {
      "text/plain": [
       "Male                       19430\n",
       "Female                      4010\n",
       "Prefer not to say            340\n",
       "Prefer to self-describe       79\n",
       "Name: Q1, dtype: int64"
      ]
     },
     "execution_count": 179,
     "metadata": {},
     "output_type": "execute_result"
    }
   ],
   "source": [
    "# Get the count of populaation by Gender\n",
    "responses_df['Q1'].value_counts()"
   ]
  },
  {
   "cell_type": "code",
   "execution_count": 180,
   "metadata": {},
   "outputs": [
    {
     "data": {
      "text/plain": [
       "Male                       81.44\n",
       "Female                     16.81\n",
       "Prefer not to say           1.43\n",
       "Prefer to self-describe     0.33\n",
       "Name: Q1, dtype: float64"
      ]
     },
     "execution_count": 180,
     "metadata": {},
     "output_type": "execute_result"
    }
   ],
   "source": [
    "# Get the Genderwise distribution in Percentage\n",
    "(responses_df['Q1'].value_counts() *100 / responses_df.shape[0]).round(2)"
   ]
  },
  {
   "cell_type": "markdown",
   "metadata": {},
   "source": [
    "It is clear that this survey is Male dominated. So, Male population is `19430` i.e. `81.44%` of total respondents. \n",
    "\n",
    "There are some people who did not disclose their gender."
   ]
  },
  {
   "cell_type": "markdown",
   "metadata": {},
   "source": [
    "#### Would like to see in which country respondents reside?"
   ]
  },
  {
   "cell_type": "code",
   "execution_count": 181,
   "metadata": {},
   "outputs": [
    {
     "data": {
      "image/png": "[encoded data removed]",
      "text/plain": [
       "<Figure size 1080x720 with 1 Axes>"
      ]
     },
     "metadata": {},
     "output_type": "display_data"
    }
   ],
   "source": [
    "responses_country = responses_df['Q3'].value_counts()\n",
    "plt.figure(figsize=(15, 10))\n",
    "ax = sns.barplot(y=responses_country.index.values , x=responses_country * 100 /responses_df.shape[0] , color='#17becf', edgecolor='black')\n",
    "ax.set_xlabel(\"Count of Responses in percentage\", fontsize=18)\n",
    "ax.set_title('Responses per Country', fontsize=18)\n",
    "ax.set_ylabel('Countries', fontsize=18)\n",
    "sns.despine(bottom=True)\n",
    "plt.grid(True, alpha=0.3)"
   ]
  },
  {
   "cell_type": "markdown",
   "metadata": {},
   "source": [
    "Almost 39% responses are only from `USA` and `India`."
   ]
  },
  {
   "cell_type": "code",
   "execution_count": 182,
   "metadata": {},
   "outputs": [
    {
     "data": {
      "application/vnd.plotly.v1+json": {
       "config": {
        "linkText": "Export to plot.ly",
        "plotlyServerURL": "https://plot.ly",
        "showLink": true
       },
       "data": [
        {
         "autocolorscale": false,
         "colorbar": {
          "len": 0.8,
          "title": "No. of Responses",
          "x": 1,
          "y": 0.6
         },
         "colorscale": [
          [
           0,
           "rgb(5, 10, 172)"
          ],
          [
           0.35,
           "rgb(40, 60, 190)"
          ],
          [
           0.5,
           "rgb(70, 100, 245)"
          ],
          [
           0.6,
           "rgb(90, 120, 245)"
          ],
          [
           0.7,
           "rgb(106, 137, 247)"
          ],
          [
           1,
           "rgb(220, 220, 220)"
          ]
         ],
         "locationmode": "country names",
         "locations": [
          "United States of America",
          "India",
          "China",
          "Other",
          "Russia",
          "Brazil",
          "Germany",
          "United Kingdom of Great Britain and Northern Ireland",
          "France",
          "Canada",
          "Japan",
          "Spain",
          "I do not wish to disclose my location",
          "Italy",
          "Australia",
          "Turkey",
          "Poland",
          "Netherlands",
          "Ukraine",
          "Nigeria",
          "Mexico",
          "South Korea",
          "Singapore",
          "Israel",
          "Indonesia",
          "Switzerland",
          "Pakistan",
          "Sweden",
          "Portugal",
          "South Africa",
          "Viet Nam",
          "Colombia",
          "Greece",
          "Argentina",
          "Malaysia",
          "Iran, Islamic Republic of...",
          "Belgium",
          "Bangladesh",
          "Denmark",
          "Ireland",
          "Egypt",
          "Hungary",
          "Belarus",
          "Kenya",
          "Peru",
          "Finland",
          "Romania",
          "New Zealand",
          "Chile",
          "Hong Kong (S.A.R.)",
          "Tunisia",
          "Norway",
          "Philippines",
          "Thailand",
          "Czech Republic",
          "Republic of Korea",
          "Morocco",
          "Austria"
         ],
         "marker": {
          "line": {
           "color": "rgb(180,180,180)",
           "width": 0.5
          }
         },
         "reversescale": true,
         "text": [
          "United States of America",
          "India",
          "China",
          "Other",
          "Russia",
          "Brazil",
          "Germany",
          "United Kingdom of Great Britain and Northern Ireland",
          "France",
          "Canada",
          "Japan",
          "Spain",
          "I do not wish to disclose my location",
          "Italy",
          "Australia",
          "Turkey",
          "Poland",
          "Netherlands",
          "Ukraine",
          "Nigeria",
          "Mexico",
          "South Korea",
          "Singapore",
          "Israel",
          "Indonesia",
          "Switzerland",
          "Pakistan",
          "Sweden",
          "Portugal",
          "South Africa",
          "Viet Nam",
          "Colombia",
          "Greece",
          "Argentina",
          "Malaysia",
          "Iran, Islamic Republic of...",
          "Belgium",
          "Bangladesh",
          "Denmark",
          "Ireland",
          "Egypt",
          "Hungary",
          "Belarus",
          "Kenya",
          "Peru",
          "Finland",
          "Romania",
          "New Zealand",
          "Chile",
          "Hong Kong (S.A.R.)",
          "Tunisia",
          "Norway",
          "Philippines",
          "Thailand",
          "Czech Republic",
          "Republic of Korea",
          "Morocco",
          "Austria"
         ],
         "type": "choropleth",
         "uid": "99cd91c6-bf0d-45db-95ee-02bda3c6ae54",
         "z": [
          4716,
          4417,
          1644,
          1036,
          879,
          736,
          734,
          702,
          604,
          604,
          597,
          485,
          394,
          355,
          330,
          327,
          301,
          270,
          252,
          208,
          202,
          188,
          186,
          173,
          171,
          164,
          161,
          155,
          155,
          147,
          144,
          128,
          121,
          119,
          113,
          113,
          111,
          107,
          106,
          101,
          96,
          93,
          91,
          85,
          81,
          79,
          79,
          77,
          76,
          76,
          74,
          74,
          73,
          73,
          72,
          71,
          71,
          62
         ]
        }
       ],
       "layout": {
        "autosize": false,
        "geo": {
         "countrywidth": 1,
         "projection": {
          "type": "natural earth"
         },
         "showcoastlines": false,
         "showcountries": true,
         "showframe": false
        },
        "height": 500,
        "margin": {
         "b": 40,
         "l": 20,
         "pad": 20,
         "r": 20,
         "t": 40
        },
        "title": "Country wise Number of Responses",
        "width": 800
       }
      },
      "text/html": [
       "<div id=\"3faf396c-0b7a-49b7-a34f-a1b49f32905a\" style=\"height: 500px; width: 800px;\" class=\"plotly-graph-div\"></div><script type=\"text/javascript\">require([\"plotly\"], function(Plotly) { window.PLOTLYENV=window.PLOTLYENV || {};window.PLOTLYENV.BASE_URL=\"https://plot.ly\";Plotly.newPlot(\"3faf396c-0b7a-49b7-a34f-a1b49f32905a\", [{\"autocolorscale\": false, \"colorbar\": {\"len\": 0.8, \"title\": \"No. of Responses\", \"x\": 1, \"y\": 0.6}, \"colorscale\": [[0, \"rgb(5, 10, 172)\"], [0.35, \"rgb(40, 60, 190)\"], [0.5, \"rgb(70, 100, 245)\"], [0.6, \"rgb(90, 120, 245)\"], [0.7, \"rgb(106, 137, 247)\"], [1, \"rgb(220, 220, 220)\"]], \"locationmode\": \"country names\", \"locations\": [\"United States of America\", \"India\", \"China\", \"Other\", \"Russia\", \"Brazil\", \"Germany\", \"United Kingdom of Great Britain and Northern Ireland\", \"France\", \"Canada\", \"Japan\", \"Spain\", \"I do not wish to disclose my location\", \"Italy\", \"Australia\", \"Turkey\", \"Poland\", \"Netherlands\", \"Ukraine\", \"Nigeria\", \"Mexico\", \"South Korea\", \"Singapore\", \"Israel\", \"Indonesia\", \"Switzerland\", \"Pakistan\", \"Sweden\", \"Portugal\", \"South Africa\", \"Viet Nam\", \"Colombia\", \"Greece\", \"Argentina\", \"Malaysia\", \"Iran, Islamic Republic of...\", \"Belgium\", \"Bangladesh\", \"Denmark\", \"Ireland\", \"Egypt\", \"Hungary\", \"Belarus\", \"Kenya\", \"Peru\", \"Finland\", \"Romania\", \"New Zealand\", \"Chile\", \"Hong Kong (S.A.R.)\", \"Tunisia\", \"Norway\", \"Philippines\", \"Thailand\", \"Czech Republic\", \"Republic of Korea\", \"Morocco\", \"Austria\"], \"marker\": {\"line\": {\"color\": \"rgb(180,180,180)\", \"width\": 0.5}}, \"reversescale\": true, \"text\": [\"United States of America\", \"India\", \"China\", \"Other\", \"Russia\", \"Brazil\", \"Germany\", \"United Kingdom of Great Britain and Northern Ireland\", \"France\", \"Canada\", \"Japan\", \"Spain\", \"I do not wish to disclose my location\", \"Italy\", \"Australia\", \"Turkey\", \"Poland\", \"Netherlands\", \"Ukraine\", \"Nigeria\", \"Mexico\", \"South Korea\", \"Singapore\", \"Israel\", \"Indonesia\", \"Switzerland\", \"Pakistan\", \"Sweden\", \"Portugal\", \"South Africa\", \"Viet Nam\", \"Colombia\", \"Greece\", \"Argentina\", \"Malaysia\", \"Iran, Islamic Republic of...\", \"Belgium\", \"Bangladesh\", \"Denmark\", \"Ireland\", \"Egypt\", \"Hungary\", \"Belarus\", \"Kenya\", \"Peru\", \"Finland\", \"Romania\", \"New Zealand\", \"Chile\", \"Hong Kong (S.A.R.)\", \"Tunisia\", \"Norway\", \"Philippines\", \"Thailand\", \"Czech Republic\", \"Republic of Korea\", \"Morocco\", \"Austria\"], \"z\": [4716, 4417, 1644, 1036, 879, 736, 734, 702, 604, 604, 597, 485, 394, 355, 330, 327, 301, 270, 252, 208, 202, 188, 186, 173, 171, 164, 161, 155, 155, 147, 144, 128, 121, 119, 113, 113, 111, 107, 106, 101, 96, 93, 91, 85, 81, 79, 79, 77, 76, 76, 74, 74, 73, 73, 72, 71, 71, 62], \"type\": \"choropleth\", \"uid\": \"99cd91c6-bf0d-45db-95ee-02bda3c6ae54\"}], {\"autosize\": false, \"geo\": {\"countrywidth\": 1, \"projection\": {\"type\": \"natural earth\"}, \"showcoastlines\": false, \"showcountries\": true, \"showframe\": false}, \"height\": 500, \"margin\": {\"b\": 40, \"l\": 20, \"pad\": 20, \"r\": 20, \"t\": 40}, \"title\": \"Country wise Number of Responses\", \"width\": 800}, {\"showLink\": true, \"linkText\": \"Export to plot.ly\", \"plotlyServerURL\": \"https://plot.ly\"})});</script>"
      ],
      "text/vnd.plotly.v1+html": [
       "<div id=\"3faf396c-0b7a-49b7-a34f-a1b49f32905a\" style=\"height: 500px; width: 800px;\" class=\"plotly-graph-div\"></div><script type=\"text/javascript\">require([\"plotly\"], function(Plotly) { window.PLOTLYENV=window.PLOTLYENV || {};window.PLOTLYENV.BASE_URL=\"https://plot.ly\";Plotly.newPlot(\"3faf396c-0b7a-49b7-a34f-a1b49f32905a\", [{\"autocolorscale\": false, \"colorbar\": {\"len\": 0.8, \"title\": \"No. of Responses\", \"x\": 1, \"y\": 0.6}, \"colorscale\": [[0, \"rgb(5, 10, 172)\"], [0.35, \"rgb(40, 60, 190)\"], [0.5, \"rgb(70, 100, 245)\"], [0.6, \"rgb(90, 120, 245)\"], [0.7, \"rgb(106, 137, 247)\"], [1, \"rgb(220, 220, 220)\"]], \"locationmode\": \"country names\", \"locations\": [\"United States of America\", \"India\", \"China\", \"Other\", \"Russia\", \"Brazil\", \"Germany\", \"United Kingdom of Great Britain and Northern Ireland\", \"France\", \"Canada\", \"Japan\", \"Spain\", \"I do not wish to disclose my location\", \"Italy\", \"Australia\", \"Turkey\", \"Poland\", \"Netherlands\", \"Ukraine\", \"Nigeria\", \"Mexico\", \"South Korea\", \"Singapore\", \"Israel\", \"Indonesia\", \"Switzerland\", \"Pakistan\", \"Sweden\", \"Portugal\", \"South Africa\", \"Viet Nam\", \"Colombia\", \"Greece\", \"Argentina\", \"Malaysia\", \"Iran, Islamic Republic of...\", \"Belgium\", \"Bangladesh\", \"Denmark\", \"Ireland\", \"Egypt\", \"Hungary\", \"Belarus\", \"Kenya\", \"Peru\", \"Finland\", \"Romania\", \"New Zealand\", \"Chile\", \"Hong Kong (S.A.R.)\", \"Tunisia\", \"Norway\", \"Philippines\", \"Thailand\", \"Czech Republic\", \"Republic of Korea\", \"Morocco\", \"Austria\"], \"marker\": {\"line\": {\"color\": \"rgb(180,180,180)\", \"width\": 0.5}}, \"reversescale\": true, \"text\": [\"United States of America\", \"India\", \"China\", \"Other\", \"Russia\", \"Brazil\", \"Germany\", \"United Kingdom of Great Britain and Northern Ireland\", \"France\", \"Canada\", \"Japan\", \"Spain\", \"I do not wish to disclose my location\", \"Italy\", \"Australia\", \"Turkey\", \"Poland\", \"Netherlands\", \"Ukraine\", \"Nigeria\", \"Mexico\", \"South Korea\", \"Singapore\", \"Israel\", \"Indonesia\", \"Switzerland\", \"Pakistan\", \"Sweden\", \"Portugal\", \"South Africa\", \"Viet Nam\", \"Colombia\", \"Greece\", \"Argentina\", \"Malaysia\", \"Iran, Islamic Republic of...\", \"Belgium\", \"Bangladesh\", \"Denmark\", \"Ireland\", \"Egypt\", \"Hungary\", \"Belarus\", \"Kenya\", \"Peru\", \"Finland\", \"Romania\", \"New Zealand\", \"Chile\", \"Hong Kong (S.A.R.)\", \"Tunisia\", \"Norway\", \"Philippines\", \"Thailand\", \"Czech Republic\", \"Republic of Korea\", \"Morocco\", \"Austria\"], \"z\": [4716, 4417, 1644, 1036, 879, 736, 734, 702, 604, 604, 597, 485, 394, 355, 330, 327, 301, 270, 252, 208, 202, 188, 186, 173, 171, 164, 161, 155, 155, 147, 144, 128, 121, 119, 113, 113, 111, 107, 106, 101, 96, 93, 91, 85, 81, 79, 79, 77, 76, 76, 74, 74, 73, 73, 72, 71, 71, 62], \"type\": \"choropleth\", \"uid\": \"99cd91c6-bf0d-45db-95ee-02bda3c6ae54\"}], {\"autosize\": false, \"geo\": {\"countrywidth\": 1, \"projection\": {\"type\": \"natural earth\"}, \"showcoastlines\": false, \"showcountries\": true, \"showframe\": false}, \"height\": 500, \"margin\": {\"b\": 40, \"l\": 20, \"pad\": 20, \"r\": 20, \"t\": 40}, \"title\": \"Country wise Number of Responses\", \"width\": 800}, {\"showLink\": true, \"linkText\": \"Export to plot.ly\", \"plotlyServerURL\": \"https://plot.ly\"})});</script>"
      ]
     },
     "metadata": {},
     "output_type": "display_data"
    }
   ],
   "source": [
    "data = dict(\n",
    "        type = 'choropleth',\n",
    "        locations = responses_country.index,\n",
    "        locationmode = 'country names',\n",
    "        z = responses_country.values,\n",
    "        text = responses_country.index,\n",
    "         colorscale = [[0,\"rgb(5, 10, 172)\"],[0.35,\"rgb(40, 60, 190)\"],[0.5,\"rgb(70, 100, 245)\"],\\\n",
    "            [0.6,\"rgb(90, 120, 245)\"],[0.7,\"rgb(106, 137, 247)\"],[1,\"rgb(220, 220, 220)\"]],\n",
    "        autocolorscale = False,\n",
    "        reversescale = True,\n",
    "        marker = dict(\n",
    "            line = dict (\n",
    "                color = 'rgb(180,180,180)',\n",
    "                width = 0.5\n",
    "            ) ),\n",
    "        colorbar = {'title' : 'No. of Responses',\n",
    "                    'len': 0.8,\n",
    "                    'x': 1,\n",
    "                    'y': 0.6},\n",
    "            \n",
    "      ) \n",
    "\n",
    "layout = go.Layout(\n",
    "    title = 'Country wise Number of Responses',\n",
    "    height = 500,\n",
    "    width = 800,\n",
    "    geo = dict(\n",
    "        showframe = False,\n",
    "        showcoastlines = False,\n",
    "        projection={'type':'natural earth'},\n",
    "        showcountries= True,\n",
    "        countrywidth = 1\n",
    "    ),\n",
    "    autosize = False,\n",
    "    margin= {\n",
    "            'l': 20,\n",
    "            'r': 20,\n",
    "            'b': 40,\n",
    "            't': 40,\n",
    "            'pad': 20\n",
    "        }\n",
    ")\n",
    "\n",
    "fig = go.Figure( data=[data], layout=layout )\n",
    "#iplot( fig, validate=False, filename='d3-world-map' )\n",
    "iplot( fig, validate=False)"
   ]
  },
  {
   "cell_type": "markdown",
   "metadata": {},
   "source": [
    "** Let's find out the Age Distribution of respondents**"
   ]
  },
  {
   "cell_type": "code",
   "execution_count": 183,
   "metadata": {},
   "outputs": [
    {
     "data": {
      "text/plain": [
       "<matplotlib.axes._subplots.AxesSubplot at 0x2af04db3eb8>"
      ]
     },
     "execution_count": 183,
     "metadata": {},
     "output_type": "execute_result"
    },
    {
     "data": {
      "image/png": "[encoded data removed]",
      "text/plain": [
       "<Figure size 432x288 with 1 Axes>"
      ]
     },
     "metadata": {},
     "output_type": "display_data"
    }
   ],
   "source": [
    "responses_df['Q2'].value_counts().sort_index().plot('bar')"
   ]
  },
  {
   "cell_type": "markdown",
   "metadata": {},
   "source": [
    "<H3>3. Data Preparation </H3>"
   ]
  },
  {
   "cell_type": "markdown",
   "metadata": {},
   "source": [
    "****`Question 1:`**** can be answered from variables `Q35_Part_1` to `Q35_Part_6`\n",
    "\n",
    "****`Question 2:`**** can be answered from variables `Q39_Part_1` to `Q39_Part_2`\n",
    "\n",
    "****`Question 3:`**** can be answered from variables `Q18` and `Q26`. Here `Q18` will provide the recommended programming language and `Q26` will filter the respondents who consider themselves to be Data Scientists.\n",
    "\n",
    "****`Question 4:`**** can be answered from variables `Q36_Part_1` to `Q36_Part_13`\n",
    "\n",
    "****`Question 5:`**** can be answered from variables `Q38_Part_1` to `Q38_Part_22`"
   ]
  },
  {
   "cell_type": "markdown",
   "metadata": {},
   "source": [
    "**** Following are some helper functions: ****"
   ]
  },
  {
   "cell_type": "code",
   "execution_count": 184,
   "metadata": {},
   "outputs": [],
   "source": [
    "def get_data_few_rows(column_name):\n",
    "    print(\"This is how data looks in {} \\n\".format(column_name))\n",
    "    print(responses_df[column_name][:10])\n",
    "\n",
    "def print_null_values(column_name):\n",
    "    print(\"Total null values in {} are {}\".format(column_name,responses_df[column_name].isnull().sum()))\n",
    "    \n",
    "def plot_countplot(variable, ax):\n",
    "    ax = sns.countplot(variable,ax=ax)    \n",
    "    for item in ax.get_xticklabels():\n",
    "        item.set_rotation(30)\n",
    "    sns.despine(bottom=True)\n",
    "    return ax\n",
    "\n",
    "def plot_barplot_h(variable):    \n",
    "    ax = variable.plot('barh', figsize=(10,5), color='#17becf', edgecolor='black')\n",
    "    sns.despine(bottom=True, left=True)\n",
    "    return ax"
   ]
  },
  {
   "cell_type": "markdown",
   "metadata": {},
   "source": [
    "**** Data Preparation for Question 1 ****\n",
    "\n",
    "This is divided into two parts: \n",
    "\n",
    "a) Check which category received responses with learning greater than 0.\n",
    "\n",
    "b) Percentage distribution of each category"
   ]
  },
  {
   "cell_type": "code",
   "execution_count": 185,
   "metadata": {},
   "outputs": [
    {
     "name": "stdout",
     "output_type": "stream",
     "text": [
      "This is how data looks in Q35_Part_1 \n",
      "\n",
      "1     NaN\n",
      "2     NaN\n",
      "3       0\n",
      "4      40\n",
      "5      20\n",
      "6      40\n",
      "7      50\n",
      "8      75\n",
      "9     NaN\n",
      "10     70\n",
      "Name: Q35_Part_1, dtype: object\n",
      "------------------------------------------------------------------\n",
      "Total null values in Q35_Part_1 are 8114\n",
      "Total null values in Q35_Part_2 are 8114\n",
      "Total null values in Q35_Part_3 are 8114\n",
      "Total null values in Q35_Part_4 are 8114\n",
      "Total null values in Q35_Part_5 are 8114\n",
      "Total null values in Q35_Part_6 are 8114\n"
     ]
    }
   ],
   "source": [
    "# How the data looks like for Q35\n",
    "\n",
    "get_data_few_rows('Q35_Part_1')\n",
    "\n",
    "print(\"------------------------------------------------------------------\")\n",
    "\n",
    "# Find out the null values in each of these variables\n",
    "print_null_values('Q35_Part_1')\n",
    "print_null_values('Q35_Part_2')\n",
    "print_null_values('Q35_Part_3')\n",
    "print_null_values('Q35_Part_4')\n",
    "print_null_values('Q35_Part_5')\n",
    "print_null_values('Q35_Part_6')"
   ]
  },
  {
   "cell_type": "markdown",
   "metadata": {},
   "source": [
    "****`Part a:`**** \n",
    "As these responses are in `numbers` but the variable is of type `object` so\n",
    "1. Will convert the variable type to float \n",
    "2. take only those values which are greater than 0 so that `Null` values will be handled."
   ]
  },
  {
   "cell_type": "code",
   "execution_count": 186,
   "metadata": {},
   "outputs": [],
   "source": [
    "# Clean the data and create a dictionary\n",
    "learning_category_dict = {\n",
    "    'Self-taught' : (responses_df['Q35_Part_1'].astype(float) >0).sum(),\n",
    "    'Online courses (Coursera, Udemy, edX, etc.)' :(responses_df['Q35_Part_2'].astype(float) >0).sum(),\n",
    "    'Work':(responses_df['Q35_Part_3'].astype(float) >0).sum(),\n",
    "    'University': (responses_df['Q35_Part_4'].astype(float) >0).sum(),\n",
    "    'Kaggle competitions': (responses_df['Q35_Part_5'].astype(float) >0).sum(),\n",
    "    'Other': (responses_df['Q35_Part_6'].astype(float) >0).sum()\n",
    "}\n",
    "\n",
    "# Convert the dictionary into a Series\n",
    "learning_category = pd.Series(learning_category_dict)"
   ]
  },
  {
   "cell_type": "markdown",
   "metadata": {},
   "source": [
    "****`Part b:` **** \n",
    "\n",
    "To answer this we do not need to convert the variables into float so directly taking their values"
   ]
  },
  {
   "cell_type": "code",
   "execution_count": 187,
   "metadata": {},
   "outputs": [],
   "source": [
    "# Clean the data and create a dictionary\n",
    "responses_df['Q35_Part_5'].loc[responses_df['Q35_Part_5'].astype(float)<0] = 0   \n",
    "learning_distribution_dict = {\n",
    "    'Self-taught' : responses_df['Q35_Part_1'].values,\n",
    "    'Online courses (Coursera, Udemy etc)' : responses_df['Q35_Part_2'].values,\n",
    "    'Work': responses_df['Q35_Part_3'].values,\n",
    "    'University': responses_df['Q35_Part_4'].values,\n",
    "    'Kaggle competitions': responses_df['Q35_Part_5'].values,\n",
    "    'Other': responses_df['Q35_Part_6'].values\n",
    "}\n",
    "# prepare the data to analyze\n",
    "learning_distribution_df = pd.DataFrame(learning_distribution_dict)"
   ]
  },
  {
   "cell_type": "markdown",
   "metadata": {},
   "source": [
    "<H4>Data Preparation for Question 2</H4>"
   ]
  },
  {
   "cell_type": "code",
   "execution_count": 188,
   "metadata": {},
   "outputs": [
    {
     "name": "stdout",
     "output_type": "stream",
     "text": [
      "This is how data looks in Q39_Part_1 \n",
      "\n",
      "1                   Much better\n",
      "2                Slightly worse\n",
      "3                Slightly worse\n",
      "4                    Much worse\n",
      "5               Slightly better\n",
      "6     No opinion; I do not know\n",
      "7               Slightly better\n",
      "8               Slightly better\n",
      "9                   Much better\n",
      "10               Slightly worse\n",
      "Name: Q39_Part_1, dtype: object\n"
     ]
    }
   ],
   "source": [
    "# How the data looks like for Q39\n",
    "get_data_few_rows('Q39_Part_1')"
   ]
  },
  {
   "cell_type": "markdown",
   "metadata": {},
   "source": [
    "Both of these variables are categorical and there are 6 categories so they need to be put in some particular order."
   ]
  },
  {
   "cell_type": "code",
   "execution_count": 189,
   "metadata": {},
   "outputs": [],
   "source": [
    "# This question responses are having ordered category data should be in order  \n",
    "sorter = ['Much better','Slightly better', 'Neither better nor worse', 'Slightly worse','Much worse', 'No opinion; I do not know']\n",
    "\n",
    "# Set the categorcal variables in a particular order for Q39_Part_1\n",
    "responses_df['Q39_Part_1'] = responses_df['Q39_Part_1'].astype('category')\n",
    "OnlineMOOC_df = responses_df['Q39_Part_1'].cat.set_categories(sorter)\n",
    "\n",
    "# Set the categorcal variables in a particular order for Q39_Part_2\n",
    "responses_df['Q39_Part_2'] = responses_df['Q39_Part_2'].astype('category')\n",
    "Bootcamps_df = responses_df['Q39_Part_2'].cat.set_categories(sorter)"
   ]
  },
  {
   "cell_type": "markdown",
   "metadata": {},
   "source": [
    "<H4>Data Preparation for Question 3 </H4>\n",
    "\n",
    "We need to check the responses from Q18 to get the languages but we also need to check if they are referred by Data Scientists and this detail we will get from Q26."
   ]
  },
  {
   "cell_type": "code",
   "execution_count": 190,
   "metadata": {},
   "outputs": [
    {
     "name": "stdout",
     "output_type": "stream",
     "text": [
      "This is how data looks in Q18 \n",
      "\n",
      "1     Python\n",
      "2     Python\n",
      "3     Python\n",
      "4        SQL\n",
      "5          R\n",
      "6     Python\n",
      "7          R\n",
      "8     Python\n",
      "9      Other\n",
      "10    Python\n",
      "Name: Q18, dtype: object\n",
      "----------------------------------------------------------------\n",
      "\n",
      "This is how data looks in Q26 \n",
      "\n",
      "1              Maybe\n",
      "2     Definitely not\n",
      "3     Definitely yes\n",
      "4       Probably yes\n",
      "5              Maybe\n",
      "6              Maybe\n",
      "7       Probably not\n",
      "8       Probably not\n",
      "9     Definitely not\n",
      "10      Probably not\n",
      "Name: Q26, dtype: object\n",
      "----------------------------------------------------------------\n",
      "\n",
      "Following are the unique values from Q26\n",
      "\n",
      "['Maybe' 'Definitely not' 'Definitely yes' 'Probably yes' 'Probably not'\n",
      " nan]\n"
     ]
    }
   ],
   "source": [
    "# How the data looks like for Q39\n",
    "get_data_few_rows('Q18')\n",
    "\n",
    "print(\"----------------------------------------------------------------\\n\")\n",
    "get_data_few_rows('Q26')\n",
    "print(\"----------------------------------------------------------------\\n\")\n",
    "print(\"Following are the unique values from Q26\\n\")\n",
    "print(responses_df['Q26'].unique())"
   ]
  },
  {
   "cell_type": "markdown",
   "metadata": {},
   "source": [
    "As we only want to see the languages referred by respondents who consider themselves to be Data Scientists so we will be filtering the data based on `Maybe`, `Definitely yes` and `Probably yes`."
   ]
  },
  {
   "cell_type": "code",
   "execution_count": 191,
   "metadata": {},
   "outputs": [],
   "source": [
    "languages_referred = responses_df['Q18'][(responses_df['Q18'].notnull()) \n",
    "                                         & ((responses_df['Q26'] == 'Probably yes') \n",
    "                                            | (responses_df['Q26'] == 'Definitely yes') \n",
    "                                            | (responses_df['Q26'] == 'Maybe'))]"
   ]
  },
  {
   "cell_type": "markdown",
   "metadata": {},
   "source": [
    "<H4>Data Preparation for Question 4 </H4>"
   ]
  },
  {
   "cell_type": "code",
   "execution_count": 192,
   "metadata": {},
   "outputs": [
    {
     "name": "stdout",
     "output_type": "stream",
     "text": [
      "This is how data looks in Q36_Part_1 \n",
      "\n",
      "1         NaN\n",
      "2         NaN\n",
      "3         NaN\n",
      "4         NaN\n",
      "5     Udacity\n",
      "6         NaN\n",
      "7         NaN\n",
      "8     Udacity\n",
      "9         NaN\n",
      "10    Udacity\n",
      "Name: Q36_Part_1, dtype: object\n",
      "This is how data looks in Q36_Part_2 \n",
      "\n",
      "1          NaN\n",
      "2          NaN\n",
      "3          NaN\n",
      "4     Coursera\n",
      "5     Coursera\n",
      "6     Coursera\n",
      "7          NaN\n",
      "8          NaN\n",
      "9          NaN\n",
      "10         NaN\n",
      "Name: Q36_Part_2, dtype: object\n",
      "------------------------------------------------------------------\n",
      "Total null values in Q36_Part_1 are 20183\n",
      "Total null values in Q36_Part_2 are 14833\n",
      "Total null values in Q36_Part_3 are 20196\n",
      "Total null values in Q36_Part_4 are 19614\n",
      "Total null values in Q36_Part_5 are 23151\n",
      "Total null values in Q36_Part_6 are 19857\n",
      "Total null values in Q36_Part_7 are 22289\n",
      "Total null values in Q36_Part_8 are 22819\n",
      "Total null values in Q36_Part_9 are 19529\n",
      "Total null values in Q36_Part_10 are 23580\n",
      "Total null values in Q36_Part_11 are 21907\n",
      "Total null values in Q36_Part_12 are 21883\n",
      "Total null values in Q36_Part_13 are 22615\n"
     ]
    }
   ],
   "source": [
    "# How the data looks like for Q36\n",
    "get_data_few_rows('Q36_Part_1')\n",
    "get_data_few_rows('Q36_Part_2')\n",
    "\n",
    "print(\"------------------------------------------------------------------\")\n",
    "\n",
    "# Find out the null values in each of these variables\n",
    "print_null_values('Q36_Part_1')\n",
    "print_null_values('Q36_Part_2')\n",
    "print_null_values('Q36_Part_3')\n",
    "print_null_values('Q36_Part_4')\n",
    "print_null_values('Q36_Part_5')\n",
    "print_null_values('Q36_Part_6')\n",
    "print_null_values('Q36_Part_7')\n",
    "print_null_values('Q36_Part_8')\n",
    "print_null_values('Q36_Part_9')\n",
    "print_null_values('Q36_Part_10')\n",
    "print_null_values('Q36_Part_11')\n",
    "print_null_values('Q36_Part_12')\n",
    "print_null_values('Q36_Part_13')"
   ]
  },
  {
   "cell_type": "markdown",
   "metadata": {},
   "source": [
    "There are too many `Null` values so it is better to exclude them from the analysis"
   ]
  },
  {
   "cell_type": "code",
   "execution_count": 193,
   "metadata": {},
   "outputs": [],
   "source": [
    "online_learning_dict = { \n",
    "    'Udacity' :                responses_df['Q36_Part_1'].notnull().sum(),\n",
    "    'Coursera' :               responses_df['Q36_Part_2'].notnull().sum(),\n",
    "    'edX' :                    responses_df['Q36_Part_3'].notnull().sum(),\n",
    "    'DataCamp':                responses_df['Q36_Part_4'].notnull().sum(),\n",
    "    'DataQuest':               responses_df['Q36_Part_5'].notnull().sum(),\n",
    "    'Kaggle Learn':            responses_df['Q36_Part_6'].notnull().sum(),\n",
    "    'Fast.AI':                 responses_df['Q36_Part_7'].notnull().sum(),\n",
    "    'developers.google.com':   responses_df['Q36_Part_8'].notnull().sum(),\n",
    "    'Udemy':                   responses_df['Q36_Part_9'].notnull().sum(),\n",
    "    'TheSchool.AI':            responses_df['Q36_Part_10'].notnull().sum(),\n",
    "    'Online University Courses':responses_df['Q36_Part_11'].notnull().sum(),\n",
    "    'None':                    responses_df['Q36_Part_12'].notnull().sum(),\n",
    "    'Other':                   responses_df['Q36_Part_13'].notnull().sum(),\n",
    "}\n",
    "\n",
    "online_learning = pd.Series(online_learning_dict).sort_values(ascending=False)"
   ]
  },
  {
   "cell_type": "markdown",
   "metadata": {},
   "source": [
    "<H4>Data Preparation for Question 5 </H4>"
   ]
  },
  {
   "cell_type": "code",
   "execution_count": 194,
   "metadata": {},
   "outputs": [
    {
     "name": "stdout",
     "output_type": "stream",
     "text": [
      "This is how data looks in Q38_Part_1 \n",
      "\n",
      "1     Twitter\n",
      "2         NaN\n",
      "3     Twitter\n",
      "4         NaN\n",
      "5         NaN\n",
      "6         NaN\n",
      "7         NaN\n",
      "8     Twitter\n",
      "9         NaN\n",
      "10        NaN\n",
      "Name: Q38_Part_1, dtype: object\n",
      "This is how data looks in Q38_Part_3 \n",
      "\n",
      "1                   NaN\n",
      "2                   NaN\n",
      "3                   NaN\n",
      "4                   NaN\n",
      "5                   NaN\n",
      "6     r/machinelearning\n",
      "7                   NaN\n",
      "8     r/machinelearning\n",
      "9                   NaN\n",
      "10                  NaN\n",
      "Name: Q38_Part_3, dtype: object\n",
      "------------------------------------------------------------------\n",
      "Total null values in Q38_Part_1 are 20721\n",
      "Total null values in Q38_Part_2 are 21847\n",
      "Total null values in Q38_Part_3 are 20800\n",
      "Total null values in Q38_Part_4 are 18296\n",
      "Total null values in Q38_Part_5 are 23096\n",
      "Total null values in Q38_Part_6 are 21835\n",
      "Total null values in Q38_Part_7 are 23637\n",
      "Total null values in Q38_Part_8 are 23317\n",
      "Total null values in Q38_Part_9 are 23255\n",
      "Total null values in Q38_Part_10 are 22316\n",
      "Total null values in Q38_Part_11 are 20717\n",
      "Total null values in Q38_Part_12 are 21710\n",
      "Total null values in Q38_Part_13 are 23176\n",
      "Total null values in Q38_Part_14 are 20809\n",
      "Total null values in Q38_Part_15 are 22321\n",
      "Total null values in Q38_Part_16 are 23543\n",
      "Total null values in Q38_Part_17 are 23188\n",
      "Total null values in Q38_Part_18 are 18848\n",
      "Total null values in Q38_Part_19 are 23859\n",
      "Total null values in Q38_Part_20 are 23859\n",
      "Total null values in Q38_Part_21 are 20755\n",
      "Total null values in Q38_Part_22 are 22299\n"
     ]
    }
   ],
   "source": [
    "# How the data looks like for Q38\n",
    "get_data_few_rows('Q38_Part_1')\n",
    "get_data_few_rows('Q38_Part_3')\n",
    "\n",
    "print(\"------------------------------------------------------------------\")\n",
    "\n",
    "# Find out the null values in each of these variables\n",
    "print_null_values('Q38_Part_1')\n",
    "print_null_values('Q38_Part_2')\n",
    "print_null_values('Q38_Part_3')\n",
    "print_null_values('Q38_Part_4')\n",
    "print_null_values('Q38_Part_5')\n",
    "print_null_values('Q38_Part_6')\n",
    "print_null_values('Q38_Part_7')\n",
    "print_null_values('Q38_Part_8')\n",
    "print_null_values('Q38_Part_9')\n",
    "print_null_values('Q38_Part_10')\n",
    "print_null_values('Q38_Part_11')\n",
    "print_null_values('Q38_Part_12')\n",
    "print_null_values('Q38_Part_13')\n",
    "print_null_values('Q38_Part_14')\n",
    "print_null_values('Q38_Part_15')\n",
    "print_null_values('Q38_Part_16')\n",
    "print_null_values('Q38_Part_17')\n",
    "print_null_values('Q38_Part_18')\n",
    "print_null_values('Q38_Part_19')\n",
    "print_null_values('Q38_Part_20')\n",
    "print_null_values('Q38_Part_21')\n",
    "print_null_values('Q38_Part_22')"
   ]
  },
  {
   "cell_type": "markdown",
   "metadata": {},
   "source": [
    "Too many `Null` values and most of the variables have more than 80-90 percent NULL values"
   ]
  },
  {
   "cell_type": "code",
   "execution_count": 195,
   "metadata": {},
   "outputs": [],
   "source": [
    "media_sources_dict = { \n",
    "    'Twitter' :                            responses_df['Q38_Part_1'].notnull().sum(),\n",
    "    'Hacker News' :                        responses_df['Q38_Part_2'].notnull().sum(),\n",
    "    'r/machinelearning' :                  responses_df['Q38_Part_3'].notnull().sum(),\n",
    "    'Kaggle forums':                       responses_df['Q38_Part_4'].notnull().sum(),\n",
    "    'Fastai forums':                       responses_df['Q38_Part_5'].notnull().sum(),\n",
    "    'Siraj Raval YouTube Channel':         responses_df['Q38_Part_6'].notnull().sum(),\n",
    "    'DataTau News Aggregator':             responses_df['Q38_Part_7'].notnull().sum(),\n",
    "    'Linear Digressions Podcast':          responses_df['Q38_Part_8'].notnull().sum(),\n",
    "    'Cloud AI Adventures (YouTube)':       responses_df['Q38_Part_9'].notnull().sum(),\n",
    "    'FiveThirtyEight.com':                 responses_df['Q38_Part_10'].notnull().sum(),\n",
    "    'ArXiv & Preprints':                   responses_df['Q38_Part_11'].notnull().sum(),\n",
    "    'Journal Publications':                responses_df['Q38_Part_12'].notnull().sum(),\n",
    "    'FastML Blog':                         responses_df['Q38_Part_13'].notnull().sum(),\n",
    "    'KDnuggets Blog':                      responses_df['Q38_Part_14'].notnull().sum(),\n",
    "    'O''Reilly Data Newsletter':           responses_df['Q38_Part_15'].notnull().sum(),\n",
    "    'Partially Derivative Podcast':        responses_df['Q38_Part_16'].notnull().sum(),\n",
    "    'The Data Skeptic Podcast':            responses_df['Q38_Part_17'].notnull().sum(),\n",
    "    'Medium Blog Posts':                   responses_df['Q38_Part_18'].notnull().sum(),\n",
    "    'Towards Data Science Blog':           responses_df['Q38_Part_19'].notnull().sum(),\n",
    "    'Analytics Vidhya Blog':               responses_df['Q38_Part_20'].notnull().sum(),\n",
    "    'None/I do not know':                  responses_df['Q38_Part_21'].notnull().sum(),\n",
    "    'Other':                               responses_df['Q38_Part_22'].notnull().sum()\n",
    "       \n",
    "}\n",
    "\n",
    "media_sources = pd.Series(media_sources_dict).sort_values(ascending=False)"
   ]
  },
  {
   "cell_type": "markdown",
   "metadata": {},
   "source": [
    "<H3>3. Data Analysis and Visualization </H3>"
   ]
  },
  {
   "cell_type": "markdown",
   "metadata": {},
   "source": [
    "<H4>Data Analysis and Visualization for Question 1 </H4>\n",
    "\n",
    "This is divided into two parts:\n",
    "\n",
    "a) Check which category received responses with learning greater than 0.\n",
    "\n",
    "b) Percentage distribution of each category"
   ]
  },
  {
   "cell_type": "markdown",
   "metadata": {},
   "source": [
    "****`Part 1:`**** we will use the learning category variable created in Data preparation stage"
   ]
  },
  {
   "cell_type": "code",
   "execution_count": 196,
   "metadata": {},
   "outputs": [
    {
     "name": "stdout",
     "output_type": "stream",
     "text": [
      "Following are the Responses received for each category where learning is greater than 0\n",
      "\n",
      "Self-taught                                    12562\n",
      "Online courses (Coursera, Udemy, edX, etc.)    11228\n",
      "Work                                            8434\n",
      "University                                      7851\n",
      "Kaggle competitions                             7144\n",
      "Other                                           1094\n",
      "dtype: int64\n"
     ]
    }
   ],
   "source": [
    "print(\"Following are the Responses received for each category where learning is greater than 0\\n\")\n",
    "print(learning_category)"
   ]
  },
  {
   "cell_type": "code",
   "execution_count": 197,
   "metadata": {},
   "outputs": [
    {
     "data": {
      "text/plain": [
       "Text(0.5,1,'Number of respondents for each learning category')"
      ]
     },
     "execution_count": 197,
     "metadata": {},
     "output_type": "execute_result"
    },
    {
     "data": {
      "image/png": "[encoded data removed]",
      "text/plain": [
       "<Figure size 432x288 with 1 Axes>"
      ]
     },
     "metadata": {},
     "output_type": "display_data"
    }
   ],
   "source": [
    "ax = sns.barplot(y = learning_category.index.values, x=learning_category)\n",
    "for p in ax.patches:\n",
    "    width = p.get_width()\n",
    "    ax.text(width + 2.5, p.get_y()+p.get_height()/2. + 0.1, '{:1.2f}'.format(width),ha=\"center\")\n",
    "sns.despine(top=True, left=True)\n",
    "ax.set_title(\"Number of respondents for each learning category\", fontsize=15)"
   ]
  },
  {
   "cell_type": "markdown",
   "metadata": {},
   "source": [
    "Most number of respondents say that they have given some part of their learning into `Self-taught` category. It is then followed by Online Courses such as Udacity, Coursera etc.\n",
    "\n",
    "Difference in number of responses received in each of these three categories - `Work`, `University` and `Kaggle Compititions` is not much."
   ]
  },
  {
   "cell_type": "markdown",
   "metadata": {},
   "source": [
    "****`Part 2:`**** we will use the learning distribution dataframe created in Data preparation stage"
   ]
  },
  {
   "cell_type": "code",
   "execution_count": 198,
   "metadata": {},
   "outputs": [
    {
     "data": {
      "text/html": [
       "<div>\n",
       "<style scoped>\n",
       "    .dataframe tbody tr th:only-of-type {\n",
       "        vertical-align: middle;\n",
       "    }\n",
       "\n",
       "    .dataframe tbody tr th {\n",
       "        vertical-align: top;\n",
       "    }\n",
       "\n",
       "    .dataframe thead th {\n",
       "        text-align: right;\n",
       "    }\n",
       "</style>\n",
       "<table border=\"1\" class=\"dataframe\">\n",
       "  <thead>\n",
       "    <tr style=\"text-align: right;\">\n",
       "      <th></th>\n",
       "      <th>Self-taught</th>\n",
       "      <th>Online courses (Coursera, Udemy etc)</th>\n",
       "      <th>Work</th>\n",
       "      <th>University</th>\n",
       "      <th>Kaggle competitions</th>\n",
       "      <th>Other</th>\n",
       "    </tr>\n",
       "  </thead>\n",
       "  <tbody>\n",
       "    <tr>\n",
       "      <th>0</th>\n",
       "      <td>NaN</td>\n",
       "      <td>NaN</td>\n",
       "      <td>NaN</td>\n",
       "      <td>NaN</td>\n",
       "      <td>NaN</td>\n",
       "      <td>NaN</td>\n",
       "    </tr>\n",
       "    <tr>\n",
       "      <th>1</th>\n",
       "      <td>NaN</td>\n",
       "      <td>NaN</td>\n",
       "      <td>NaN</td>\n",
       "      <td>NaN</td>\n",
       "      <td>NaN</td>\n",
       "      <td>NaN</td>\n",
       "    </tr>\n",
       "    <tr>\n",
       "      <th>2</th>\n",
       "      <td>0</td>\n",
       "      <td>0</td>\n",
       "      <td>0</td>\n",
       "      <td>100</td>\n",
       "      <td>0</td>\n",
       "      <td>0</td>\n",
       "    </tr>\n",
       "    <tr>\n",
       "      <th>3</th>\n",
       "      <td>40</td>\n",
       "      <td>40</td>\n",
       "      <td>10</td>\n",
       "      <td>0</td>\n",
       "      <td>10</td>\n",
       "      <td>0</td>\n",
       "    </tr>\n",
       "    <tr>\n",
       "      <th>4</th>\n",
       "      <td>20</td>\n",
       "      <td>40</td>\n",
       "      <td>20</td>\n",
       "      <td>20</td>\n",
       "      <td>0</td>\n",
       "      <td>0</td>\n",
       "    </tr>\n",
       "  </tbody>\n",
       "</table>\n",
       "</div>"
      ],
      "text/plain": [
       "  Self-taught Online courses (Coursera, Udemy etc) Work University  \\\n",
       "0         NaN                                  NaN  NaN        NaN   \n",
       "1         NaN                                  NaN  NaN        NaN   \n",
       "2           0                                    0    0        100   \n",
       "3          40                                   40   10          0   \n",
       "4          20                                   40   20         20   \n",
       "\n",
       "  Kaggle competitions Other  \n",
       "0                 NaN   NaN  \n",
       "1                 NaN   NaN  \n",
       "2                   0     0  \n",
       "3                  10     0  \n",
       "4                   0     0  "
      ]
     },
     "execution_count": 198,
     "metadata": {},
     "output_type": "execute_result"
    }
   ],
   "source": [
    "learning_distribution_df.head()"
   ]
  },
  {
   "cell_type": "code",
   "execution_count": 199,
   "metadata": {},
   "outputs": [
    {
     "data": {
      "image/png": "[encoded data removed]",
      "text/plain": [
       "<Figure size 864x432 with 1 Axes>"
      ]
     },
     "metadata": {},
     "output_type": "display_data"
    }
   ],
   "source": [
    "#plot the boxplot of the data\n",
    "fig, ax = plt.subplots(figsize= (12,6))\n",
    "ax = sns.boxplot(data=learning_distribution_df, orient='h')\n",
    "ax.set_title('Box plots on % contribution in Data Science or Machine Learning training category', fontsize=15)\n",
    "sns.despine(top=True, left=True, right=True)"
   ]
  },
  {
   "cell_type": "markdown",
   "metadata": {},
   "source": [
    "No category is clearly the winner but `self-taught` and `Online Courses` are ahead in %age of learning "
   ]
  },
  {
   "cell_type": "markdown",
   "metadata": {},
   "source": [
    "<H4>Data Analysis and Visualization for Question 2 </H4>\n",
    "\n",
    "We will use the `OnlineMOOC_df` and `Bootcamps_df` created in Data preparation stage.\n",
    "\n",
    "Both of these variables have categorical ordered data"
   ]
  },
  {
   "cell_type": "code",
   "execution_count": 230,
   "metadata": {},
   "outputs": [
    {
     "name": "stdout",
     "output_type": "stream",
     "text": [
      "Following are the categories in Online MOOCs\n",
      "\n",
      "[Much better, Slightly worse, Much worse, Slightly better, No opinion; I do not know, Neither better nor worse, NaN]\n",
      "Categories (6, object): [Much better, Slightly worse, Much worse, Slightly better, No opinion; I do not know, Neither better nor worse]\n",
      "\n",
      "Following is the Number of responses in each category\n",
      "\n",
      "Slightly better              4554\n",
      "Much better                  3908\n",
      "Neither better nor worse     3647\n",
      "Slightly worse               1749\n",
      "No opinion; I do not know    1564\n",
      "Much worse                    557\n",
      "Name: Q39_Part_1, dtype: int64\n",
      "\n",
      "-------------------------------------------------------\n",
      "\n",
      "Following are the categories in In-person Bootcams\n",
      "\n",
      "[Much worse, No opinion; I do not know, Slightly better, Much better, Neither better nor worse, Slightly worse, NaN]\n",
      "Categories (6, object): [Much worse, No opinion; I do not know, Slightly better, Much better, Neither better nor worse, Slightly worse]\n",
      "\n",
      "Following is the Number of responses in each category\n",
      "\n",
      "No opinion; I do not know    5313\n",
      "Slightly better              3525\n",
      "Neither better nor worse     3011\n",
      "Much better                  2781\n",
      "Slightly worse                982\n",
      "Much worse                    367\n",
      "Name: Q39_Part_2, dtype: int64\n"
     ]
    }
   ],
   "source": [
    "print(\"Following are the categories in Online MOOCs\\n\")\n",
    "print(OnlineMOOC_df.unique())\n",
    "print(\"\\nFollowing is the Number of responses in each category\\n\")\n",
    "print(OnlineMOOC_df.value_counts())\n",
    "print(\"\\n-------------------------------------------------------\\n\")\n",
    "print(\"Following are the categories in In-person Bootcams\\n\")\n",
    "print(Bootcamps_df.unique())\n",
    "print(\"\\nFollowing is the Number of responses in each category\\n\")\n",
    "print(Bootcamps_df.value_counts())"
   ]
  },
  {
   "cell_type": "code",
   "execution_count": 231,
   "metadata": {},
   "outputs": [
    {
     "data": {
      "text/plain": [
       "Text(0.5,0,'Opinion')"
      ]
     },
     "execution_count": 231,
     "metadata": {},
     "output_type": "execute_result"
    },
    {
     "data": {
      "image/png": "[encoded data removed]",
      "text/plain": [
       "<Figure size 1080x360 with 2 Axes>"
      ]
     },
     "metadata": {},
     "output_type": "display_data"
    }
   ],
   "source": [
    "fig, axr = plt.subplots(1,2, figsize=(15,5))\n",
    "\n",
    "ax1 = plot_countplot(OnlineMOOC_df, axr[0])\n",
    "ax1.set_title('Online Learning Platforms Vs Brick and Mortar Institutions', fontsize=15)\n",
    "ax1.set_xlabel('Opinion', fontsize=12)\n",
    "\n",
    "ax2 = plot_countplot(Bootcamps_df, axr[1])\n",
    "ax2.set_title('In-Person Bootcams Vs Brick and Mortar Institutions', fontsize=15)\n",
    "ax2.set_xlabel('Opinion', fontsize=12)"
   ]
  },
  {
   "cell_type": "markdown",
   "metadata": {},
   "source": [
    "****`Online MOOCs`**** : Number of Respondents who have opinion that Online MOOCs are Better, they are almost 4 times the Number of Respondents who say these are Worse.\n",
    "\n",
    "****`In-Person Bootcamps`**** : Number of Respondents who have opinion that Bootcamps are Better, they are almost 4 times the Number of Respondents who say these are Worse.\n",
    "\n",
    "There are some respondents who choose to opt-out as they do not have any opinion. However, Bootcamps have most number of respondents who do not have any opinion or they don't know."
   ]
  },
  {
   "cell_type": "markdown",
   "metadata": {},
   "source": [
    "<H4>Data Analysis and Visualization for Question 3 </H4>\n",
    "\n",
    "We will use the languages_referred variable created in Data preparation stage."
   ]
  },
  {
   "cell_type": "code",
   "execution_count": 236,
   "metadata": {},
   "outputs": [
    {
     "name": "stdout",
     "output_type": "stream",
     "text": [
      "This is how the data looks like\n",
      "\n",
      "1    Python\n",
      "3    Python\n",
      "4       SQL\n",
      "5         R\n",
      "6    Python\n",
      "Name: Q18, dtype: object\n",
      "\n",
      "-----------------------------------------------------\n",
      "\n",
      "Following is the count of each Language referred by Data Scientists\n",
      "\n",
      "Python        10378\n",
      "R              1814\n",
      "SQL             646\n",
      "C++             248\n",
      "MATLAB          177\n",
      "Java            128\n",
      "Other           103\n",
      "Scala            54\n",
      "SAS              53\n",
      "Javascript       52\n",
      "None             51\n",
      "VBA              32\n",
      "Go               13\n",
      "Name: Q18, dtype: int64\n"
     ]
    }
   ],
   "source": [
    "print(\"This is how the data looks like\\n\")\n",
    "print(languages_referred[:5])\n",
    "\n",
    "print(\"\\n-----------------------------------------------------\\n\")\n",
    "\n",
    "print(\"Following is the count of each Language referred by Data Scientists\\n\")\n",
    "print(languages_referred.value_counts())"
   ]
  },
  {
   "cell_type": "code",
   "execution_count": 203,
   "metadata": {},
   "outputs": [
    {
     "data": {
      "text/plain": [
       "Text(0,0.5,'Percent')"
      ]
     },
     "execution_count": 203,
     "metadata": {},
     "output_type": "execute_result"
    },
    {
     "data": {
      "image/png": "[encoded data removed]",
      "text/plain": [
       "<Figure size 432x288 with 1 Axes>"
      ]
     },
     "metadata": {},
     "output_type": "display_data"
    }
   ],
   "source": [
    "ax = (languages_referred.value_counts() * 100 / len(languages_referred)).plot('bar')\n",
    "ax.set_title(\"Languages Recommended by Data Scientists\", fontsize =15)\n",
    "ax.set_xlabel(\"Languages\", fontsize=12)\n",
    "ax.set_ylabel(\"Percent\", fontsize=12)"
   ]
  },
  {
   "cell_type": "markdown",
   "metadata": {},
   "source": [
    "Clearly, `Python` wins the race by a huge margin as most referred langauge to start with. It is then followed by R and SQL. Other langauges such as C++, MATLAB, Java, Scala etc might be referred as respondent is working on these."
   ]
  },
  {
   "cell_type": "markdown",
   "metadata": {},
   "source": [
    "<H4>Data Analysis and Visualization for Question 4 </H4>\n",
    "\n",
    "We will use the online_learning variable created in Data preparation stage."
   ]
  },
  {
   "cell_type": "code",
   "execution_count": 238,
   "metadata": {},
   "outputs": [
    {
     "name": "stdout",
     "output_type": "stream",
     "text": [
      "Following is the count of responses received against each Online learning Platforms\n",
      "\n",
      "Coursera                     9026\n",
      "Udemy                        4330\n",
      "DataCamp                     4245\n",
      "Kaggle Learn                 4002\n",
      "Udacity                      3676\n",
      "edX                          3663\n",
      "None                         1976\n",
      "Online University Courses    1952\n",
      "Fast.AI                      1570\n",
      "Other                        1244\n",
      "developers.google.com        1040\n",
      "DataQuest                     708\n",
      "TheSchool.AI                  279\n",
      "dtype: int64\n"
     ]
    }
   ],
   "source": [
    "print(\"Following is the count of responses received against each Online learning Platforms\\n\")\n",
    "print(online_learning)"
   ]
  },
  {
   "cell_type": "code",
   "execution_count": 205,
   "metadata": {},
   "outputs": [
    {
     "data": {
      "text/plain": [
       "Text(0.5,0,'Number of responses')"
      ]
     },
     "execution_count": 205,
     "metadata": {},
     "output_type": "execute_result"
    },
    {
     "data": {
      "image/png": "[encoded data removed]",
      "text/plain": [
       "<Figure size 720x360 with 1 Axes>"
      ]
     },
     "metadata": {},
     "output_type": "display_data"
    }
   ],
   "source": [
    "ax = plot_barplot_h(online_learning)\n",
    "ax.set_title('Online Learning Platforms Preferred by Respondents', fontsize=15)\n",
    "ax.set_ylabel('Online Learning Platforms')\n",
    "ax.set_xlabel('Number of responses')"
   ]
  },
  {
   "cell_type": "markdown",
   "metadata": {},
   "source": [
    "`Coursera` received the most number of responses. It is then followed by Udemy, Datacamp, Kaggle learn, Udacity and edX. "
   ]
  },
  {
   "cell_type": "markdown",
   "metadata": {},
   "source": [
    "<H4>Data Analysis and Visualization for Question 5 </H4>\n",
    "\n",
    "We will use the media sources variable created in Data preparation stage"
   ]
  },
  {
   "cell_type": "code",
   "execution_count": 240,
   "metadata": {},
   "outputs": [
    {
     "name": "stdout",
     "output_type": "stream",
     "text": [
      "Following are the number of responses received against each media source\n",
      "\n",
      "Kaggle forums                    5563\n",
      "Medium Blog Posts                5011\n",
      "ArXiv & Preprints                3142\n",
      "Twitter                          3138\n",
      "None/I do not know               3104\n",
      "r/machinelearning                3059\n",
      "KDnuggets Blog                   3050\n",
      "Journal Publications             2149\n",
      "Siraj Raval YouTube Channel      2024\n",
      "Hacker News                      2012\n",
      "Other                            1560\n",
      "FiveThirtyEight.com              1543\n",
      "OReilly Data Newsletter          1538\n",
      "Fastai forums                     763\n",
      "FastML Blog                       683\n",
      "The Data Skeptic Podcast          671\n",
      "Cloud AI Adventures (YouTube)     604\n",
      "Linear Digressions Podcast        542\n",
      "Partially Derivative Podcast      316\n",
      "DataTau News Aggregator           222\n",
      "Analytics Vidhya Blog               0\n",
      "Towards Data Science Blog           0\n",
      "dtype: int64\n"
     ]
    }
   ],
   "source": [
    "print(\"Following are the number of responses received against each media source\\n\")\n",
    "print(media_sources)"
   ]
  },
  {
   "cell_type": "code",
   "execution_count": 207,
   "metadata": {},
   "outputs": [
    {
     "data": {
      "text/plain": [
       "Text(0.5,0,'Number of responses')"
      ]
     },
     "execution_count": 207,
     "metadata": {},
     "output_type": "execute_result"
    },
    {
     "data": {
      "image/png": "[encoded data removed]",
      "text/plain": [
       "<Figure size 720x360 with 1 Axes>"
      ]
     },
     "metadata": {},
     "output_type": "display_data"
    }
   ],
   "source": [
    "ax = plot_barplot_h(media_sources)\n",
    "ax.set_title('Favourite Media Sources for Data Science Topics', fontsize=15)\n",
    "ax.set_ylabel('Media Sources')\n",
    "ax.set_xlabel('Number of responses')"
   ]
  },
  {
   "cell_type": "markdown",
   "metadata": {},
   "source": [
    "It is of no surprise that `Kaggle forums` received the maximum number of responses because survey was done by Kaggle. It is then followed by `Medium blog posts`. It was surprise to me that `Analytics Vidhya` and `Towards Data Science` blogs did not receive any votes. \n"
   ]
  },
  {
   "cell_type": "markdown",
   "metadata": {},
   "source": [
    "<H3>5. Conclusions </H3>"
   ]
  },
  {
   "cell_type": "markdown",
   "metadata": {},
   "source": [
    "It can be concluded that Self-Learning is anyway necessary whether you opt for Online Courses or Work. \n",
    "\n",
    "As per responses, Online Learning Courses quality is better than the Brick and Mortar Institutions so you can feel safe and choose Online Courses.\n",
    "\n",
    "Python is the most recommended programming language followed by R. As per my experience, it is better to have SQL knowledge also.\n",
    "\n",
    "Coursera is the most popular Online Learning Platform for Data Science and Machine Learning. But as per my experience, you should choose between Coursera and Udacity.\n",
    "\n",
    "Apart from Kaggle Forums, Medium Blogs and ArXiv & Preprints is also adviced. "
   ]
  }
 ],
 "metadata": {
  "kernelspec": {
   "display_name": "Python 3",
   "language": "python",
   "name": "python3"
  },
  "language_info": {
   "codemirror_mode": {
    "name": "ipython",
    "version": 3
   },
   "file_extension": ".py",
   "mimetype": "text/x-python",
   "name": "python",
   "nbconvert_exporter": "python",
   "pygments_lexer": "ipython3",
   "version": "3.6.5"
  }
 },
 "nbformat": 4,
 "nbformat_minor": 2
}
